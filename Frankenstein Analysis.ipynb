{
 "cells": [
  {
   "cell_type": "markdown",
   "metadata": {},
   "source": [
    "# Frankenstein: A Machine Learning Project\n",
    "## by Galia Appel"
   ]
  },
  {
   "cell_type": "markdown",
   "metadata": {},
   "source": [
    "# 1. Objective\n",
    "\n",
    "Attempt to answer the question: was \"Frankenstein, or the Modern Prometheus\" written solely by Mary Shelley?"
   ]
  },
  {
   "cell_type": "markdown",
   "metadata": {},
   "source": [
    "# 2. Background\n",
    "\n",
    "1816, The year without summer. Five friends: Lord Byron, Percy Shelley, Mary Godwin (not yet married), Dr. John Polidori and Claire Clairmont, have assembled at the Villa Diodati near lake Geneva and were engaged in a friendly contest of writing horror stories. In this setting, Mary (18 at the time) has written \"Frankenstein, or the Modern Prometheus\".\n",
    "\n",
    "At first, the book was published (1818) anonymously with Percy Shelley's preface, which set the belief that he was the writer and not his wife. The book was published two more times (1823, 1831) under Mary's name, but the critics continued to claim that if not an only writer, Percy was at least \"a minor collaborator\" (James Rieger, 1974).\n",
    "\n",
    "Some of the critics' claims were:\n",
    "\n",
    "* The preface and poems along the book were recognized as Percy Shelley's style and ideas.\n",
    "* The drafts revealed Percy Shelley made many corrections and wrote some sections solely in his handwriting. \n",
    "* The novel and its themes drew from Percy Shelley's life (atheism, social justice, social tolerance, alchemy, galvanism, scientific discovery, vegetarianism).\n",
    "\n",
    "Against them (though not always at the same time) rose the claims:\n",
    "\n",
    "* The preface and poems were indeed written by Percy Shelley. They both were correctly credited in a later edition.\n",
    "* The handwriting is hard to distinguish between the two authors' and most of the critics didn't get a firsthand examination of the notebooks.\n",
    "* The themes and ideas which appear in the novel appeared in Mary's father, William Godwin's works. Both Percy and Mary admired him and learned them, each on his own.\n",
    "\n",
    "Yet, the argument continues..."
   ]
  },
  {
   "cell_type": "markdown",
   "metadata": {},
   "source": [
    "# 3. Data\n",
    "\n",
    "All the texts were taken from the [Project Gutenberg](https://www.gutenberg.org) site.\n",
    "\n",
    "## Mary Shelley's Works\n",
    "\n",
    "* Frankenstein; Or, The Modern Prometheus\n",
    "* Falkner: A Novel\n",
    "* Mathilda\n",
    "* Tales and Stories\n",
    "* The Last Man\n",
    "* Valperga Volume 1\n",
    "* Valperga Volume 2\n",
    "* Valperga Volume 3\n",
    "\n",
    "## Percy Shelley's Works\n",
    "\n",
    "* A Vindication of Natural Diet\n",
    "* A Defence of Poetry and Other Essays\n",
    "* The Complete Poetical Work"
   ]
  },
  {
   "cell_type": "markdown",
   "metadata": {},
   "source": [
    "# 4. Code"
   ]
  },
  {
   "cell_type": "markdown",
   "metadata": {},
   "source": [
    "## 4.1 Preparations"
   ]
  },
  {
   "cell_type": "markdown",
   "metadata": {},
   "source": [
    "### Imports"
   ]
  },
  {
   "cell_type": "code",
   "execution_count": 1,
   "metadata": {},
   "outputs": [],
   "source": [
    "import glob    # to get the text files\n",
    "import random  # shuffle Mary's sentences\n",
    "import re      # for cleaning the text\n",
    "\n",
    "import joblib  # to save/load the trained models\n",
    "import matplotlib.pyplot as plt  # plotting\n",
    "import nltk    # tokenization of sentences and words\n",
    "import numpy as np  # to extract indices of labels\n",
    "import seaborn as sns  # more plotting\n",
    "\n",
    "from sklearn.ensemble import RandomForestClassifier\n",
    "from sklearn.feature_extraction.text import CountVectorizer  # Bag-of-Words\n",
    "from sklearn.metrics import classification_report, plot_confusion_matrix  # check quality of the models\n",
    "from sklearn.model_selection import GridSearchCV  # pick best model from groups of hyperparameters\n",
    "from sklearn.model_selection import train_test_split\n",
    "from sklearn.neural_network import MLPClassifier\n",
    "from sklearn.svm import SVC\n",
    "from sklearn.tree import DecisionTreeClassifier"
   ]
  },
  {
   "cell_type": "markdown",
   "metadata": {},
   "source": [
    "### Set Plot Defaults"
   ]
  },
  {
   "cell_type": "code",
   "execution_count": 2,
   "metadata": {},
   "outputs": [],
   "source": [
    "plt.rcParams[\"figure.figsize\"] = 12, 8\n",
    "plt.rcParams[\"axes.facecolor\"] = \"#F7F1E4\"\n",
    "plt.rcParams[\"font.size\"] = 16\n",
    "plt.rcParams[\"font.family\"] = \"Book Antiqua\""
   ]
  },
  {
   "cell_type": "markdown",
   "metadata": {},
   "source": [
    "### Set Random Seed"
   ]
  },
  {
   "cell_type": "code",
   "execution_count": 3,
   "metadata": {},
   "outputs": [],
   "source": [
    "random.seed(42)"
   ]
  },
  {
   "cell_type": "markdown",
   "metadata": {},
   "source": [
    "## 4.2 Read and Preprocess Texts"
   ]
  },
  {
   "cell_type": "code",
   "execution_count": 4,
   "metadata": {},
   "outputs": [],
   "source": [
    "mary = glob.glob(\"mary/*.txt\")\n",
    "percy = glob.glob(\"percy/*.txt\")"
   ]
  },
  {
   "cell_type": "code",
   "execution_count": 5,
   "metadata": {},
   "outputs": [],
   "source": [
    "def extract_sentences(book_collection):\n",
    "    sents = []\n",
    "    for book in book_collection:\n",
    "        with open(book, encoding=\"utf-8\") as f:\n",
    "            text = f.read().replace(\"\\n\", \" \").replace(\"***\", \"\")\n",
    "            text = re.sub(r\"\\n+\", \"\", text)\n",
    "            sents.extend(nltk.sent_tokenize(text))\n",
    "    return sents\n",
    "\n",
    "mary_sents = extract_sentences(mary)\n",
    "percy_sents = extract_sentences(percy)"
   ]
  },
  {
   "cell_type": "code",
   "execution_count": 6,
   "metadata": {},
   "outputs": [
    {
     "name": "stdout",
     "output_type": "stream",
     "text": [
      "Mary has 24,258 sentences in the corpus, Percy has 12,019.\n"
     ]
    }
   ],
   "source": [
    "print(f\"Mary has {len(mary_sents):,} sentences in the corpus, Percy has {len(percy_sents):,}.\")"
   ]
  },
  {
   "cell_type": "markdown",
   "metadata": {},
   "source": [
    "As we can see from the plot below, the dataset is imbalanced, with Mary having almost twice as many sentences as Percy. I randomly discard some of Mary's sentences to match the number of sentences from Percy."
   ]
  },
  {
   "cell_type": "code",
   "execution_count": 7,
   "metadata": {},
   "outputs": [
    {
     "data": {
      "image/png": "[encoded data removed]",
      "text/plain": [
       "<Figure size 864x576 with 1 Axes>"
      ]
     },
     "metadata": {
      "needs_background": "light"
     },
     "output_type": "display_data"
    }
   ],
   "source": [
    "plt.bar([\"Mary\", \"Percy\"], [len(mary_sents), len(percy_sents)], color=[\"purple\", \"green\"]);"
   ]
  },
  {
   "cell_type": "code",
   "execution_count": 8,
   "metadata": {},
   "outputs": [],
   "source": [
    "random.shuffle(mary_sents)\n",
    "mary_sents = mary_sents[:len(percy_sents)]"
   ]
  },
  {
   "cell_type": "markdown",
   "metadata": {},
   "source": [
    "Much better!"
   ]
  },
  {
   "cell_type": "code",
   "execution_count": 9,
   "metadata": {},
   "outputs": [
    {
     "data": {
      "image/png": "[encoded data removed]",
      "text/plain": [
       "<Figure size 864x576 with 1 Axes>"
      ]
     },
     "metadata": {
      "needs_background": "light"
     },
     "output_type": "display_data"
    }
   ],
   "source": [
    "plt.bar([\"Mary\", \"Percy\"], [len(mary_sents), len(percy_sents)], color=[\"purple\", \"green\"]);"
   ]
  },
  {
   "cell_type": "markdown",
   "metadata": {},
   "source": [
    "## 4.3 Machine Learning Pipeline"
   ]
  },
  {
   "cell_type": "markdown",
   "metadata": {},
   "source": [
    "### 4.3.1 Create Features and Targets"
   ]
  },
  {
   "cell_type": "code",
   "execution_count": 10,
   "metadata": {},
   "outputs": [],
   "source": [
    "X = mary_sents + percy_sents\n",
    "y = [\"Mary\"] * len(mary_sents) + [\"Percy\"] * len(percy_sents)"
   ]
  },
  {
   "cell_type": "markdown",
   "metadata": {},
   "source": [
    "### 4.3.2 Split to Train / Test Sets"
   ]
  },
  {
   "cell_type": "code",
   "execution_count": 11,
   "metadata": {},
   "outputs": [],
   "source": [
    "X_train, X_test, y_train, y_test = train_test_split(X, y, test_size=0.2, random_state=42)"
   ]
  },
  {
   "cell_type": "markdown",
   "metadata": {},
   "source": [
    "### 4.3.3 Fit the Bag-of-Words to the Training Set"
   ]
  },
  {
   "cell_type": "code",
   "execution_count": 13,
   "metadata": {},
   "outputs": [],
   "source": [
    "bow = CountVectorizer()\n",
    "bow.fit(X_train);"
   ]
  },
  {
   "cell_type": "markdown",
   "metadata": {},
   "source": [
    "### 4.3.4 Create the Bag-of-Words Vectors\n",
    "\n",
    "A Bag-of-Words representation of text is a vector of length equal to the number of unique words in the training set.\n",
    "\n",
    "For example, given the two sentences: \"I want to go get some ice-cream\", \"I wish to go get some coffee\", we have 10 unique words, so each Bag-of-Words vector is of length 9, and the resulting vectors would look like this:\n",
    "\n",
    "$$\\begin{bmatrix} 1 & 1 & 1 & 1 & 1 & 1 & 1 & 0 & 0 \\\\ 1 & 0 & 1 & 1 & 1 & 1 & 0 & 1 & 1 \\end{bmatrix}$$"
   ]
  },
  {
   "cell_type": "code",
   "execution_count": 14,
   "metadata": {},
   "outputs": [],
   "source": [
    "X_train_bow = bow.transform(X_train)\n",
    "X_test_bow = bow.transform(X_test)"
   ]
  },
  {
   "cell_type": "markdown",
   "metadata": {},
   "source": [
    "### 4.3.5 Trying Different Models\n",
    "\n",
    "As we've seen in class, the models I am trying are:\n",
    "* Decision Tree\n",
    "* Random Forest\n",
    "* Support Vector Machine\n",
    "* Multilayer Perceptron"
   ]
  },
  {
   "cell_type": "markdown",
   "metadata": {},
   "source": [
    "#### Instantiate the Models"
   ]
  },
  {
   "cell_type": "code",
   "execution_count": null,
   "metadata": {},
   "outputs": [],
   "source": [
    "decision_tree_clf = DecisionTreeClassifier()\n",
    "random_forest_clf = RandomForestClassifier()\n",
    "svm_clf = SVC()\n",
    "mlp_clf = MLPClassifier()"
   ]
  },
  {
   "cell_type": "markdown",
   "metadata": {},
   "source": [
    "#### Create Parameter Grids for Each Model"
   ]
  },
  {
   "cell_type": "code",
   "execution_count": null,
   "metadata": {},
   "outputs": [],
   "source": [
    "decision_tree_params = {\n",
    "    \"max_depth\": [1, 3, 5, 10, 100, None],\n",
    "}\n",
    "\n",
    "random_forest_params = {\n",
    "    \"n_estimators\": [100, 300, 500, 1000],\n",
    "    \"max_depth\": [1, 3, 5, 10, 100, None]\n",
    "}\n",
    "\n",
    "svm_params = {\n",
    "    \"C\": [0.001, 0.01, 0.1, 1, 10, 100],\n",
    "    \"kernel\": [\"linear\", \"poly\", \"rbf\", \"sigmoid\"]\n",
    "}\n",
    "\n",
    "mlp_params = {\n",
    "    \"hidden_layer_sizes\": [(100,), (300,), (100, 100), (300, 300), (300, 100)],\n",
    "    \"early_stopping\": [True, False]\n",
    "}"
   ]
  },
  {
   "cell_type": "markdown",
   "metadata": {},
   "source": [
    "#### Create a `GridSearchCV` Instance for Each Model"
   ]
  },
  {
   "cell_type": "code",
   "execution_count": null,
   "metadata": {},
   "outputs": [],
   "source": [
    "grid_search_decision_tree = GridSearchCV(decision_tree_clf, decision_tree_params, n_jobs=-1, cv=3)\n",
    "grid_search_random_forest = GridSearchCV(random_forest_clf, random_forest_params, n_jobs=-1, cv=3)\n",
    "grid_search_svm = GridSearchCV(svm_clf, svm_params, n_jobs=-1, cv=3)\n",
    "grid_search_mlp = GridSearchCV(mlp_clf, mlp_params, n_jobs=-1, cv=3)"
   ]
  },
  {
   "cell_type": "markdown",
   "metadata": {},
   "source": [
    "#### Fit All the Models\n",
    "\n",
    "This takes a while, as this is fitting 192 different models and picking the best one of each algorithm."
   ]
  },
  {
   "cell_type": "code",
   "execution_count": null,
   "metadata": {},
   "outputs": [],
   "source": [
    "for grid_search in (grid_search_decision_tree, grid_search_random_forest, grid_search_svm, grid_search_mlp):\n",
    "    grid_search.fit(X_train_bow, y_train)"
   ]
  },
  {
   "cell_type": "markdown",
   "metadata": {},
   "source": [
    "#### Save the Models\n",
    "\n",
    "This took a long time, and we don't want to lose the progress."
   ]
  },
  {
   "cell_type": "code",
   "execution_count": null,
   "metadata": {},
   "outputs": [],
   "source": [
    "joblib.dump(grid_search_decision_tree.best_estimator_, \"decision_tree.pkl\")\n",
    "joblib.dump(grid_search_random_forest.best_estimator_, \"random_forest.pkl\")\n",
    "joblib.dump(grid_search_svm.best_estimator_, \"svm.pkl\")\n",
    "joblib.dump(grid_search_mlp.best_estimator_, \"mlp.pkl\")"
   ]
  },
  {
   "cell_type": "markdown",
   "metadata": {},
   "source": [
    "#### Load the Models\n",
    "\n",
    "Just to check everything works."
   ]
  },
  {
   "cell_type": "code",
   "execution_count": 15,
   "metadata": {},
   "outputs": [],
   "source": [
    "dt = joblib.load(\"decision_tree.pkl\")\n",
    "rf = joblib.load(\"random_forest.pkl\")\n",
    "svm = joblib.load(\"svm.pkl\")\n",
    "mlp = joblib.load(\"mlp.pkl\")"
   ]
  },
  {
   "cell_type": "markdown",
   "metadata": {},
   "source": [
    "### 4.3.6 Evaluation\n",
    "\n",
    "We test the accuracy of each model on the held-out test set."
   ]
  },
  {
   "cell_type": "code",
   "execution_count": 16,
   "metadata": {},
   "outputs": [
    {
     "name": "stdout",
     "output_type": "stream",
     "text": [
      "Decision Tree: 0.7529118136439268\n",
      "Random Forest: 0.8304908485856906\n",
      "SVM: 0.8575291181364393\n",
      "MLP: 0.877495840266223\n"
     ]
    }
   ],
   "source": [
    "print(f\"Decision Tree: {dt.score(X_test_bow, y_test)}\")\n",
    "print(f\"Random Forest: {rf.score(X_test_bow, y_test)}\")\n",
    "print(f\"SVM: {svm.score(X_test_bow, y_test)}\")\n",
    "print(f\"MLP: {mlp.score(X_test_bow, y_test)}\")"
   ]
  },
  {
   "cell_type": "markdown",
   "metadata": {},
   "source": [
    "### 4.3.7 Choosing a Model\n",
    "\n",
    "The **Multilayer Perceptron** got the best score out of the four models, so I'll use it for my analysis."
   ]
  },
  {
   "cell_type": "code",
   "execution_count": 17,
   "metadata": {},
   "outputs": [
    {
     "name": "stdout",
     "output_type": "stream",
     "text": [
      "              precision    recall  f1-score   support\n",
      "\n",
      "        Mary       0.88      0.87      0.88      2401\n",
      "       Percy       0.87      0.89      0.88      2407\n",
      "\n",
      "    accuracy                           0.88      4808\n",
      "   macro avg       0.88      0.88      0.88      4808\n",
      "weighted avg       0.88      0.88      0.88      4808\n",
      "\n"
     ]
    }
   ],
   "source": [
    "y_pred = mlp.predict(X_test_bow)\n",
    "print(classification_report(y_test, y_pred))"
   ]
  },
  {
   "cell_type": "code",
   "execution_count": 19,
   "metadata": {},
   "outputs": [
    {
     "data": {
      "image/png": "[encoded data removed]",
      "text/plain": [
       "<Figure size 864x576 with 2 Axes>"
      ]
     },
     "metadata": {
      "needs_background": "light"
     },
     "output_type": "display_data"
    }
   ],
   "source": [
    "plot_confusion_matrix(mlp, X_test_bow, y_test, cmap=\"copper\");"
   ]
  },
  {
   "cell_type": "markdown",
   "metadata": {},
   "source": [
    "# 5. Frankenstein Analysis"
   ]
  },
  {
   "cell_type": "markdown",
   "metadata": {},
   "source": [
    "First, read Frankenstein's sentences using the helper function I defined earlier:"
   ]
  },
  {
   "cell_type": "code",
   "execution_count": 20,
   "metadata": {},
   "outputs": [],
   "source": [
    "frank_sents = extract_sentences([\"frankenstein.txt\"])"
   ]
  },
  {
   "cell_type": "markdown",
   "metadata": {},
   "source": [
    "Transform the sentences into a Bag-of-Words using the same Bag-of-Words that was fit on the original training set:"
   ]
  },
  {
   "cell_type": "code",
   "execution_count": 21,
   "metadata": {},
   "outputs": [],
   "source": [
    "frank_bow = bow.transform(frank_sents)"
   ]
  },
  {
   "cell_type": "markdown",
   "metadata": {},
   "source": [
    "Now, I predict using the MLP model which author wrote which sentence in Frankenstein:"
   ]
  },
  {
   "cell_type": "code",
   "execution_count": 22,
   "metadata": {},
   "outputs": [],
   "source": [
    "predictions = mlp.predict(frank_bow)\n",
    "probabilities = mlp.predict_proba(frank_bow)"
   ]
  },
  {
   "cell_type": "code",
   "execution_count": 23,
   "metadata": {},
   "outputs": [
    {
     "data": {
      "image/png": "[encoded data removed]",
      "text/plain": [
       "<Figure size 864x576 with 1 Axes>"
      ]
     },
     "metadata": {
      "needs_background": "light"
     },
     "output_type": "display_data"
    }
   ],
   "source": [
    "pred_mary = predictions[predictions == \"Mary\"]\n",
    "pred_percy = predictions[predictions == \"Percy\"]\n",
    "sns.histplot(pred_percy, color=\"green\")\n",
    "sns.histplot(pred_mary, color=\"purple\")\n",
    "plt.text(0, 600, str(len(pred_percy)), ha=\"center\")\n",
    "plt.text(1, 2800, str(len(pred_mary)), ha=\"center\")\n",
    "plt.ylim((0, 3000));"
   ]
  },
  {
   "cell_type": "markdown",
   "metadata": {},
   "source": [
    "In my research, one of the hypotheses was that Percy Shelley wrote between 5,000 and 7,000 words in \"Frankenstein\". Let's see what the model thinks:"
   ]
  },
  {
   "cell_type": "code",
   "execution_count": 24,
   "metadata": {},
   "outputs": [],
   "source": [
    "percy_sent_idxs, = np.where(predictions == \"Percy\")"
   ]
  },
  {
   "cell_type": "code",
   "execution_count": 29,
   "metadata": {},
   "outputs": [
    {
     "name": "stdout",
     "output_type": "stream",
     "text": [
      "According to the model, Percy wrote 8,280 words.\n"
     ]
    }
   ],
   "source": [
    "print(f\"According to the model, Percy wrote {sum([len(nltk.word_tokenize(frank_sents[idx])) for idx in percy_sent_idxs]):,} words.\")"
   ]
  },
  {
   "cell_type": "markdown",
   "metadata": {},
   "source": [
    "Finally, let's see what is the probability that each author wrote each sentence. The closer the bar is to 1 (-1), the more the sentence is attributed to Mary (Percy)."
   ]
  },
  {
   "cell_type": "code",
   "execution_count": 30,
   "metadata": {},
   "outputs": [
    {
     "data": {
      "image/png": "[encoded data removed]",
      "text/plain": [
       "<Figure size 1800x720 with 1 Axes>"
      ]
     },
     "metadata": {
      "needs_background": "light"
     },
     "output_type": "display_data"
    }
   ],
   "source": [
    "x = np.arange(1, len(frank_sents) + 1)\n",
    "plt.figure(figsize=(25, 10))\n",
    "plt.bar(x, probabilities[:, 0], color=\"purple\")\n",
    "plt.bar(x, -probabilities[:, 1], color=\"green\")\n",
    "plt.axhline(1, color=\"purple\")\n",
    "plt.axhline(-1, color=\"green\")\n",
    "plt.xlabel(\"Sentence Index\")\n",
    "plt.ylabel(\"Probability\")\n",
    "plt.ylim((-1.5, 1.5))\n",
    "plt.title(\"Mary vs. Percy\", {\"fontsize\": 36})\n",
    "plt.text(1500, 1.25, \"Mary\", {\"fontsize\": 24})\n",
    "plt.text(1500, -1.25, \"Percy\", {\"fontsize\": 24});"
   ]
  },
  {
   "cell_type": "markdown",
   "metadata": {},
   "source": [
    "# 6. Conclusion\n",
    "\n",
    "The model trained on both Mary and Percy Shelley's works does an acceptable job classifying a sentence to its corresponding author (less than 600 misclassifications out of ~4K sentences), and as such, can give us a very rough estimate of an answer to Frankenstein's authorship question: according to the model, the majority of Frankenstein was written by Mary Shelley, with Percy Shelley's \"touches\"."
   ]
  },
  {
   "cell_type": "markdown",
   "metadata": {},
   "source": [
    "# 7. Discussion\n",
    "\n",
    "My results are very similar to those of Charles E. Robinson's full survey (1996). Robinson used modern tools to create photofacsimiles , with them he created a new transcript. His conclusion was:\n",
    "\n",
    "> As this edition will make evident, MWS is the creative genius by which this novel was conceived and developed, we can call PBS an able midwife who helped his wife bring her monster to life.\n",
    "\n",
    "> PBS's contributions to Frankenstein were no more than what most publishers' editors have provided new (or old) authors or, in fact, what colleagues have provided to each other after reading each other's works in progress.\n",
    "\n",
    "It should be noted that even though the classifier achieved 87% accuracy, this result should be taken with a grain of salt:\n",
    "* The training corpus was relatively small, with only about 24K sentences in total (12K for each author).\n",
    "* 87% still means that more than one sentence in ten could be misclassified, and with Frankenstein’s 3,083 tokenized sentences, this can add up to more than 300 misclassified sentences.\n",
    "\n",
    "While Robinson estimated Percy Shelley have contributed around 4,000-5,000 words, my results show his contribution was as high as 8,280 words. This might indicate that further tuning is in order. \n",
    "\n",
    "Moreover, we must take into consideration the fact that many hands are involved in every book publication (until this very day), therefore it cannot be said that any of the texts used in this project were written solely by either or both of the Shelleys.\n",
    "\n",
    "## A Personal Note\n",
    "\n",
    "As I read about Mary Shelley, I found out that although she never went to school, her father (William Godwin, a political philosopher) provided her a rich and informal education. His library contained not only his works, but also her late mother's (Mary Wollstonecraft Godwin) which had a reputation of her own as a feminist philosopher and writer. \n",
    "\n",
    "With this background, I was somewhat confused by some of the widely accepted opinions which surrounded the Shelley's relationship. The assumption that Percy Shelley was the writer started when the novel was published anonymously, and this assumption was only strengthened when the draft found at 1974 had many notes which were automatically assumed to be Percy Shelley's. Some of the critics' conclusions were:\n",
    "\n",
    "> In short, by means of condescension and egotism, he suppressed his wife’s distinctive vision. Worse still, Mary Shelley ‘shared Percy’s opinion of her inferior literary abilities’ and ‘substituted Percy’s style for her own’. It proved their marriage was one ‘in which the husband played the dominant role’ — Anne K. Mellor, 1988\n",
    "\n",
    "> Mary Shelley felt unable ‘to put \\[her\\]self forward unless led, cherished & supported,’ and she perceived this need for support as feminine, ‘the woman’s love of looking up and being guided’. It might be, then, that this ideology of dependent femininity rendered her unable to write her own text without her husband’s help. Moreover, collaboration forced by a more dominant writer on a less powerful and perhaps unwilling ‘partner’ is a kind of rape; if Frankenstein is the product of such a union, then it evinces a debilitating femininity. — Johanna M. Smith, 1992\n",
    "\n",
    "After Robinson has published his work, the critics' voices has change, and I am happy to find out that after all these years not only Mary receives the honor of being recognized for her work, but also Percy is looked upon as an encouraging husband who takes interest in his wife's work. \n",
    "\n",
    "> Those who knew Shelley testify to ‘quite different qualities: directness, precision, irony, command, qualities frequently found in the early journal entries’. Indeed, in Mary’s own self-assessments, Leader finds evidence of her ‘belief in herself as an author’. It is more likely that, when writing Frankenstein, she ‘consciously, willingly welcomed Percy Shelley’s contributions’. — Zachary Leader, 1996\n",
    "\n",
    "> Percy’s attitude towards his wife’s writing was positive. He encouraged her to translate Alfieri’s Mirra, ‘supplied lyrics for her mythological dramas Proserpine and Midas (1820)’, and welcomed her contributions to his translation of Spinoza’s Tractatus Theologico-Politicus. — Nora Crook, 2013\n",
    "\n",
    "> As the years have passed, the idea that husband and wife worked alongside each other in ways that did not entail bullying, harassment, or physical violence has begun to find acceptance. — Robinson, 1996\n",
    "\n",
    "> I personally prefer to give both of them the benefit of the doubt and conjecture that (1) PBS suggested and made alterations to the text of Frankenstein for the purpose of improving an already excellent narrative (in \\[?February 1818\\] he wrote a review that judged the published novel “one of the most original and complete productions of the day”) and that (2) MWS accepted the suggestions and alterations that she agreed with. — Robinson, 1996"
   ]
  },
  {
   "cell_type": "markdown",
   "metadata": {},
   "source": [
    "# External Links and Sources\n",
    "\n",
    "* Duncan Wu (2015). 30 Great Myths about the Romantics. WIley-Blackwell. p. 214. ISBN 978-1118843260.\n",
    "* [Shelley-Godwin Archive website](http://shelleygodwinarchive.org/contents/frankenstein/the-frankenstein-notebooks-introduction)\n",
    "* [Works by Mary Wollstonecraft Shelley at Project Gutenberg](http://www.gutenberg.org/ebooks/author/61)\n",
    "* [Works by Percy Bysshe Shelley at Project Gutenberg](https://www.gutenberg.org/ebooks/author/1529)\n",
    "* [The Frankenstein authorship question at Wikipedia](https://en.wikipedia.org/wiki/Frankenstein_authorship_question)\n",
    "* [Villa Diodati at Wikipedia](https://en.wikipedia.org/wiki/Villa_Diodati)\n",
    "* מנהיים, נועה. הרשת התרבותית. הוצאת גרף, 2019, פרק 38.\n",
    "* טריאסט איילת, מנהיים נועה. 27.6.2019, פרנקנשטיין (פרק 1), פודקאסט ב-האחיות גרים, גלי צה\"ל.\n",
    "[https://glz.co.il/גלצ/תוכניות/האחיות-גרים/האחיות-גרים08-07-2020-2031](https://bit.ly/3ufBJcr)\n"
   ]
  },
  {
   "cell_type": "code",
   "execution_count": null,
   "metadata": {},
   "outputs": [],
   "source": []
  }
 ],
 "metadata": {
  "kernelspec": {
   "display_name": "Python 3",
   "language": "python",
   "name": "python3"
  },
  "language_info": {
   "codemirror_mode": {
    "name": "ipython",
    "version": 3
   },
   "file_extension": ".py",
   "mimetype": "text/x-python",
   "name": "python",
   "nbconvert_exporter": "python",
   "pygments_lexer": "ipython3",
   "version": "3.8.5"
  }
 },
 "nbformat": 4,
 "nbformat_minor": 5
}
